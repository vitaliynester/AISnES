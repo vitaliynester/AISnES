{
 "cells": [
  {
   "cell_type": "code",
   "execution_count": 1,
   "outputs": [],
   "source": [
    "# Загрузим обучающую и экзаменационную выборку\n",
    "## Вариант №11: [misc.forsale, sci.med, talk.religion.misc]"
   ],
   "metadata": {
    "collapsed": false,
    "pycharm": {
     "name": "#%%\n"
    }
   }
  },
  {
   "cell_type": "code",
   "execution_count": 2,
   "outputs": [],
   "source": [
    "import warnings\n",
    "import nltk\n",
    "from sklearn.datasets import fetch_20newsgroups\n",
    "warnings.simplefilter(action='ignore', category=FutureWarning)"
   ],
   "metadata": {
    "collapsed": false,
    "pycharm": {
     "name": "#%%\n"
    }
   }
  },
  {
   "cell_type": "code",
   "execution_count": 3,
   "outputs": [],
   "source": [
    "categories = ['misc.forsale', 'sci.med', 'talk.religion.misc']\n",
    "remove = ['headers', 'footers', 'quotes']\n",
    "\n",
    "twenty_train_full = fetch_20newsgroups(subset='train', categories=categories, shuffle=True, random_state=42, remove=remove)\n",
    "twenty_test_full = fetch_20newsgroups(subset='test', categories=categories, shuffle=True, random_state=42, remove=remove)"
   ],
   "metadata": {
    "collapsed": false,
    "pycharm": {
     "name": "#%%\n"
    }
   }
  },
  {
   "cell_type": "code",
   "execution_count": 4,
   "outputs": [
    {
     "data": {
      "text/plain": "\"\\nNot to mention the thread about selling someone's wife. I am a guy, therefore\\nnot overly bummed by it, but a little common sense would dictate that this\\nis offensive to many women, and not really necessary.\\n\\n-- \\n----------------------------------------------------------------------\\nScott Ferguson                        Exxon Research & Engineering Co.\\nProject Engineer                      New Jersey\""
     },
     "execution_count": 4,
     "metadata": {},
     "output_type": "execute_result"
    }
   ],
   "source": [
    "twenty_train_full.data[0]"
   ],
   "metadata": {
    "collapsed": false,
    "pycharm": {
     "name": "#%%\n"
    }
   }
  },
  {
   "cell_type": "code",
   "execution_count": 5,
   "outputs": [
    {
     "data": {
      "text/plain": "'I have two brand new Dayna Etherprint Adapters (10baset) for sale.\\nThey convert ethertalk to localtalk. This is useful when wanting to\\nhook up a localtalk network printer to a ethertalk(10baset) network.\\nThey sell for $350 each in Mac Warehouse. Will take $100 each.\\nGuaranteed.\\n\\nemail response to atg@virginia.edu'"
     },
     "execution_count": 5,
     "metadata": {},
     "output_type": "execute_result"
    }
   ],
   "source": [
    "twenty_test_full.data[0]"
   ],
   "metadata": {
    "collapsed": false,
    "pycharm": {
     "name": "#%%\n"
    }
   }
  },
  {
   "cell_type": "markdown",
   "source": [
    "# Применение стемминга"
   ],
   "metadata": {
    "collapsed": false,
    "pycharm": {
     "name": "#%% md\n"
    }
   }
  },
  {
   "cell_type": "code",
   "execution_count": 6,
   "outputs": [
    {
     "name": "stderr",
     "output_type": "stream",
     "text": [
      "[nltk_data] Downloading package punkt to\n",
      "[nltk_data]     C:\\Users\\Vitaly\\AppData\\Roaming\\nltk_data...\n",
      "[nltk_data]   Package punkt is already up-to-date!\n"
     ]
    },
    {
     "data": {
      "text/plain": "True"
     },
     "execution_count": 6,
     "metadata": {},
     "output_type": "execute_result"
    }
   ],
   "source": [
    "import nltk\n",
    "from nltk import word_tokenize\n",
    "from nltk.stem import *\n",
    "\n",
    "nltk.download('punkt')"
   ],
   "metadata": {
    "collapsed": false,
    "pycharm": {
     "name": "#%%\n"
    }
   }
  },
  {
   "cell_type": "code",
   "execution_count": 7,
   "outputs": [],
   "source": [
    "def stemming(data):\n",
    "    porter_stemmer = PorterStemmer()\n",
    "    stem = []\n",
    "    for text in data:\n",
    "        nltk_tokens = word_tokenize(text)\n",
    "        line = ''.join([' ' + porter_stemmer.stem(word) for word in nltk_tokens])\n",
    "        stem.append(line)\n",
    "    return stem"
   ],
   "metadata": {
    "collapsed": false,
    "pycharm": {
     "name": "#%%\n"
    }
   }
  },
  {
   "cell_type": "code",
   "execution_count": 8,
   "outputs": [],
   "source": [
    "stem_train = stemming(twenty_train_full.data)\n",
    "stem_test = stemming(twenty_test_full.data)"
   ],
   "metadata": {
    "collapsed": false,
    "pycharm": {
     "name": "#%%\n"
    }
   }
  },
  {
   "cell_type": "code",
   "execution_count": 9,
   "outputs": [
    {
     "data": {
      "text/plain": "\" not to mention the thread about sell someon 's wife . i am a guy , therefor not overli bum by it , but a littl common sens would dictat that thi is offens to mani women , and not realli necessari . -- -- -- -- -- -- -- -- -- -- -- -- -- -- -- -- -- -- -- -- -- -- -- -- -- -- -- -- -- -- -- -- -- -- -- -- scott ferguson exxon research & engin co. project engin new jersey\""
     },
     "execution_count": 9,
     "metadata": {},
     "output_type": "execute_result"
    }
   ],
   "source": [
    "stem_train[0]"
   ],
   "metadata": {
    "collapsed": false,
    "pycharm": {
     "name": "#%%\n"
    }
   }
  },
  {
   "cell_type": "code",
   "execution_count": 10,
   "outputs": [
    {
     "data": {
      "text/plain": "' i have two brand new dayna etherprint adapt ( 10baset ) for sale . they convert ethertalk to localtalk . thi is use when want to hook up a localtalk network printer to a ethertalk ( 10baset ) network . they sell for $ 350 each in mac warehous . will take $ 100 each . guarante . email respons to atg @ virginia.edu'"
     },
     "execution_count": 10,
     "metadata": {},
     "output_type": "execute_result"
    }
   ],
   "source": [
    "stem_test[0]"
   ],
   "metadata": {
    "collapsed": false,
    "pycharm": {
     "name": "#%%\n"
    }
   }
  },
  {
   "cell_type": "markdown",
   "source": [
    "# Векторизация выборки"
   ],
   "metadata": {
    "collapsed": false,
    "pycharm": {
     "name": "#%% md\n"
    }
   }
  },
  {
   "cell_type": "markdown",
   "source": [
    "## Векторизация обучающей и тестовой выборки простым подсчетом слов (CountVectorizer) и значением max_features = 10.000"
   ],
   "metadata": {
    "collapsed": false,
    "pycharm": {
     "name": "#%% md\n"
    }
   }
  },
  {
   "cell_type": "code",
   "execution_count": 11,
   "outputs": [],
   "source": [
    "import numpy as np\n",
    "from sklearn.feature_extraction.text import CountVectorizer"
   ],
   "metadata": {
    "collapsed": false,
    "pycharm": {
     "name": "#%%\n"
    }
   }
  },
  {
   "cell_type": "code",
   "execution_count": 12,
   "outputs": [],
   "source": [
    "vect_without_stop = CountVectorizer(max_features=10000)"
   ],
   "metadata": {
    "collapsed": false,
    "pycharm": {
     "name": "#%%\n"
    }
   }
  },
  {
   "cell_type": "code",
   "execution_count": 13,
   "outputs": [],
   "source": [
    "train_data = vect_without_stop.fit_transform(twenty_train_full.data)\n",
    "test_data = vect_without_stop.transform(twenty_test_full.data)"
   ],
   "metadata": {
    "collapsed": false,
    "pycharm": {
     "name": "#%%\n"
    }
   }
  },
  {
   "cell_type": "code",
   "execution_count": 14,
   "outputs": [],
   "source": [
    "def sort_by_tf(input_str):\n",
    "    return input_str[1]\n",
    "\n",
    "def top_terms(vector, data, count):\n",
    "    x = list(zip(vector.get_feature_names_out(), np.ravel(data.sum(axis=0))))\n",
    "    x.sort(key=sort_by_tf, reverse=True)\n",
    "    return x[:count]"
   ],
   "metadata": {
    "collapsed": false,
    "pycharm": {
     "name": "#%%\n"
    }
   }
  },
  {
   "cell_type": "code",
   "execution_count": 15,
   "outputs": [
    {
     "data": {
      "text/plain": "[{'the': 7706},\n {'of': 4314},\n {'to': 4227},\n {'and': 3922},\n {'in': 2670},\n {'is': 2596},\n {'that': 2302},\n {'for': 2017},\n {'it': 1819},\n {'you': 1541},\n {'have': 1230},\n {'with': 1157},\n {'are': 1149},\n {'this': 1149},\n {'not': 1084},\n {'or': 1009},\n {'be': 1002},\n {'as': 932},\n {'on': 926},\n {'if': 790}]"
     },
     "execution_count": 15,
     "metadata": {},
     "output_type": "execute_result"
    }
   ],
   "source": [
    "top_terms_without_stop = [{term[0]: term[1]} for term in top_terms(vect_without_stop, train_data, 20)]\n",
    "top_terms_without_stop\n",
    "\n",
    "top_terms_without_stop_test = [{term[0]: term[1]} for term in top_terms(vect_without_stop, test_data, 20)]\n",
    "top_terms_without_stop_test"
   ],
   "metadata": {
    "collapsed": false,
    "pycharm": {
     "name": "#%%\n"
    }
   }
  },
  {
   "cell_type": "markdown",
   "source": [
    "## Отсечение стоп-слов"
   ],
   "metadata": {
    "collapsed": false,
    "pycharm": {
     "name": "#%% md\n"
    }
   }
  },
  {
   "cell_type": "code",
   "execution_count": 16,
   "outputs": [],
   "source": [
    "vect_stop = CountVectorizer(max_features=10000, stop_words='english')"
   ],
   "metadata": {
    "collapsed": false,
    "pycharm": {
     "name": "#%%\n"
    }
   }
  },
  {
   "cell_type": "code",
   "execution_count": 17,
   "outputs": [],
   "source": [
    "train_data_stop = vect_stop.fit_transform(twenty_train_full.data)\n",
    "test_data_stop = vect_stop.transform(twenty_test_full.data)"
   ],
   "metadata": {
    "collapsed": false,
    "pycharm": {
     "name": "#%%\n"
    }
   }
  },
  {
   "cell_type": "code",
   "execution_count": 18,
   "outputs": [
    {
     "data": {
      "text/plain": "[{'00': 560},\n {'10': 351},\n {'god': 328},\n {'like': 314},\n {'new': 306},\n {'know': 301},\n {'don': 292},\n {'people': 288},\n {'just': 249},\n {'good': 242},\n {'20': 239},\n {'time': 228},\n {'edu': 220},\n {'50': 214},\n {'12': 212},\n {'does': 205},\n {'92': 204},\n {'use': 204},\n {'25': 202},\n {'medical': 201}]"
     },
     "execution_count": 18,
     "metadata": {},
     "output_type": "execute_result"
    }
   ],
   "source": [
    "top_terms_stop = [{term[0]: term[1]} for term in top_terms(vect_stop, train_data_stop, 20)]\n",
    "top_terms_stop\n",
    "\n",
    "top_terms_stop_test = [{term[0]: term[1]} for term in top_terms(vect_stop, test_data_stop, 20)]\n",
    "top_terms_stop_test"
   ],
   "metadata": {
    "collapsed": false,
    "pycharm": {
     "name": "#%%\n"
    }
   }
  },
  {
   "cell_type": "markdown",
   "source": [
    "# Для данных после стемминга"
   ],
   "metadata": {
    "collapsed": false,
    "pycharm": {
     "name": "#%% md\n"
    }
   }
  },
  {
   "cell_type": "markdown",
   "source": [
    "## Без стоп-слов"
   ],
   "metadata": {
    "collapsed": false,
    "pycharm": {
     "name": "#%% md\n"
    }
   }
  },
  {
   "cell_type": "code",
   "execution_count": 19,
   "outputs": [],
   "source": [
    "vect_stem_without_stop = CountVectorizer(max_features=10000)"
   ],
   "metadata": {
    "collapsed": false,
    "pycharm": {
     "name": "#%%\n"
    }
   }
  },
  {
   "cell_type": "code",
   "execution_count": 20,
   "outputs": [],
   "source": [
    "train_data_without_stop_stem = vect_stem_without_stop.fit_transform(stem_train)\n",
    "test_data_without_stop_stem = vect_stem_without_stop.transform(stem_test)"
   ],
   "metadata": {
    "collapsed": false,
    "pycharm": {
     "name": "#%%\n"
    }
   }
  },
  {
   "cell_type": "code",
   "execution_count": 21,
   "outputs": [
    {
     "data": {
      "text/plain": "[{'the': 7706},\n {'of': 4314},\n {'to': 4227},\n {'and': 3923},\n {'in': 2671},\n {'is': 2633},\n {'that': 2306},\n {'for': 2017},\n {'it': 1916},\n {'you': 1540},\n {'have': 1317},\n {'thi': 1199},\n {'are': 1167},\n {'with': 1157},\n {'be': 1143},\n {'not': 1116},\n {'or': 1009},\n {'on': 933},\n {'as': 931},\n {'do': 800}]"
     },
     "execution_count": 21,
     "metadata": {},
     "output_type": "execute_result"
    }
   ],
   "source": [
    "top_terms_stem = [{term[0]: term[1]} for term in top_terms(vect_stem_without_stop, train_data_without_stop_stem, 20)]\n",
    "top_terms_stem\n",
    "\n",
    "top_terms_stem_test = [{term[0]: term[1]} for term in top_terms(vect_stem_without_stop, test_data_without_stop_stem, 20)]\n",
    "top_terms_stem_test"
   ],
   "metadata": {
    "collapsed": false,
    "pycharm": {
     "name": "#%%\n"
    }
   }
  },
  {
   "cell_type": "markdown",
   "source": [
    "# С использованием стоп-слов"
   ],
   "metadata": {
    "collapsed": false,
    "pycharm": {
     "name": "#%% md\n"
    }
   }
  },
  {
   "cell_type": "code",
   "execution_count": 22,
   "outputs": [],
   "source": [
    "vect_stem = CountVectorizer(max_features=10000, stop_words='english')"
   ],
   "metadata": {
    "collapsed": false,
    "pycharm": {
     "name": "#%%\n"
    }
   }
  },
  {
   "cell_type": "code",
   "execution_count": 23,
   "outputs": [],
   "source": [
    "train_data_stop_stem = vect_stem.fit_transform(stem_train)\n",
    "test_data_stop_stem = vect_stem.transform(stem_test)"
   ],
   "metadata": {
    "collapsed": false,
    "pycharm": {
     "name": "#%%\n"
    }
   }
  },
  {
   "cell_type": "code",
   "execution_count": 24,
   "outputs": [
    {
     "data": {
      "text/plain": "[{'thi': 1199},\n {'wa': 689},\n {'00': 560},\n {'use': 521},\n {'ha': 498},\n {'god': 378},\n {'10': 351},\n {'ani': 347},\n {'like': 342},\n {'know': 330},\n {'hi': 325},\n {'new': 320},\n {'peopl': 289},\n {'doe': 276},\n {'time': 271},\n {'make': 265},\n {'say': 263},\n {'just': 249},\n {'good': 244},\n {'onli': 241}]"
     },
     "execution_count": 24,
     "metadata": {},
     "output_type": "execute_result"
    }
   ],
   "source": [
    "top_terms_stop_stem = [{term[0]: term[1]} for term in top_terms(vect_stem, train_data_stop_stem, 20)]\n",
    "top_terms_stop_stem\n",
    "\n",
    "top_terms_stop_stem_test = [{term[0]: term[1]} for term in top_terms(vect_stem, test_data_stop_stem, 20)]\n",
    "top_terms_stop_stem_test"
   ],
   "metadata": {
    "collapsed": false,
    "pycharm": {
     "name": "#%%\n"
    }
   }
  },
  {
   "cell_type": "markdown",
   "source": [
    "# Векторизация выборки с помощью TfidfTransformer (TF и TF-IDF)"
   ],
   "metadata": {
    "collapsed": false,
    "pycharm": {
     "name": "#%% md\n"
    }
   }
  },
  {
   "cell_type": "markdown",
   "source": [
    "## Без использования стоп-слов"
   ],
   "metadata": {
    "collapsed": false,
    "pycharm": {
     "name": "#%% md\n"
    }
   }
  },
  {
   "cell_type": "code",
   "execution_count": 25,
   "outputs": [],
   "source": [
    "from sklearn.feature_extraction.text import TfidfTransformer"
   ],
   "metadata": {
    "collapsed": false,
    "pycharm": {
     "name": "#%%\n"
    }
   }
  },
  {
   "cell_type": "code",
   "execution_count": 26,
   "outputs": [],
   "source": [
    "tf = TfidfTransformer(use_idf=False)\n",
    "tfidf = TfidfTransformer(use_idf=True)"
   ],
   "metadata": {
    "collapsed": false,
    "pycharm": {
     "name": "#%%\n"
    }
   }
  },
  {
   "cell_type": "code",
   "execution_count": 27,
   "outputs": [],
   "source": [
    "train_data_tf = tf.fit_transform(train_data)\n",
    "test_data_tf = tf.transform(test_data)\n",
    "\n",
    "train_data_tfidf = tfidf.fit_transform(train_data)\n",
    "test_data_tfidf = tfidf.transform(test_data)"
   ],
   "metadata": {
    "collapsed": false,
    "pycharm": {
     "name": "#%%\n"
    }
   }
  },
  {
   "cell_type": "code",
   "execution_count": 28,
   "outputs": [
    {
     "data": {
      "text/plain": "[{'the': 103.92578878716677},\n {'to': 67.46243226585233},\n {'of': 62.14728629487148},\n {'and': 55.67573051098585},\n {'is': 47.115771882782795},\n {'that': 46.15570171423424},\n {'for': 45.38556743347154},\n {'you': 43.75246255205398},\n {'in': 43.31207482495192},\n {'it': 41.98574454787257},\n {'have': 32.082368823761044},\n {'or': 26.963146304013232},\n {'not': 26.798398081584132},\n {'this': 26.54414001492925},\n {'are': 26.139018385325716},\n {'with': 26.089883896229},\n {'be': 24.02821218376009},\n {'if': 23.8169899007375},\n {'on': 23.72047883885346},\n {'as': 21.37691832162967}]"
     },
     "execution_count": 28,
     "metadata": {},
     "output_type": "execute_result"
    }
   ],
   "source": [
    "top_terms_tf = [{term[0]: term[1]} for term in top_terms(vect_without_stop, train_data_tf, 20)]\n",
    "top_terms_tf\n",
    "\n",
    "top_terms_tf_test = [{term[0]: term[1]} for term in top_terms(vect_without_stop, test_data_tf, 20)]\n",
    "top_terms_tf_test\n",
    "\n",
    "top_terms_tfidf = [{term[0]: term[1]} for term in top_terms(vect_without_stop, train_data_tfidf, 20)]\n",
    "top_terms_tfidf\n",
    "\n",
    "top_terms_tfidf_test = [{term[0]: term[1]} for term in top_terms(vect_without_stop, test_data_tfidf, 20)]\n",
    "top_terms_tfidf_test"
   ],
   "metadata": {
    "collapsed": false,
    "pycharm": {
     "name": "#%%\n"
    }
   }
  },
  {
   "cell_type": "markdown",
   "source": [
    "## С использованием стоп-слов"
   ],
   "metadata": {
    "collapsed": false,
    "pycharm": {
     "name": "#%% md\n"
    }
   }
  },
  {
   "cell_type": "code",
   "execution_count": 29,
   "outputs": [],
   "source": [
    "tf = TfidfTransformer(use_idf=False)\n",
    "tfidf = TfidfTransformer(use_idf=True)"
   ],
   "metadata": {
    "collapsed": false,
    "pycharm": {
     "name": "#%%\n"
    }
   }
  },
  {
   "cell_type": "code",
   "execution_count": 30,
   "outputs": [],
   "source": [
    "train_data_stop_tf = tf.fit_transform(train_data_stop)\n",
    "test_data_stop_tf = tf.transform(test_data_stop)\n",
    "\n",
    "train_data_stop_tfidf = tfidf.fit_transform(train_data_stop)\n",
    "test_data_stop_tfidf = tfidf.transform(test_data_stop)"
   ],
   "metadata": {
    "collapsed": false,
    "pycharm": {
     "name": "#%%\n"
    }
   }
  },
  {
   "cell_type": "code",
   "execution_count": 31,
   "outputs": [
    {
     "data": {
      "text/plain": "[{'know': 16.24730869218536},\n {'like': 15.489751099616834},\n {'just': 14.386831590993486},\n {'don': 14.029111887245111},\n {'sale': 13.80560024422138},\n {'00': 13.797739615372626},\n {'god': 13.258610971213697},\n {'good': 12.953128824156405},\n {'new': 12.114588533328869},\n {'think': 11.774347917159494},\n {'mail': 11.7469651636439},\n {'people': 11.217160674133005},\n {'time': 10.76555628971949},\n {'does': 10.752805532883665},\n {'thanks': 10.731058363911187},\n {'ve': 10.416912964357634},\n {'used': 10.294090022947794},\n {'offer': 10.221700719462152},\n {'edu': 10.177793191710643},\n {'make': 10.132834220143167}]"
     },
     "execution_count": 31,
     "metadata": {},
     "output_type": "execute_result"
    }
   ],
   "source": [
    "top_terms_stop_tf = [{term[0]: term[1]} for term in top_terms(vect_stop, train_data_stop_tf, 20)]\n",
    "top_terms_stop_tf\n",
    "\n",
    "top_terms_stop_tf_test = [{term[0]: term[1]} for term in top_terms(vect_stop, test_data_stop_tf, 20)]\n",
    "top_terms_stop_tf_test\n",
    "\n",
    "top_terms_stop_tfidf = [{term[0]: term[1]} for term in top_terms(vect_stop, train_data_stop_tfidf, 20)]\n",
    "top_terms_stop_tfidf\n",
    "\n",
    "top_terms_stop_tfidf_test = [{term[0]: term[1]} for term in top_terms(vect_stop, test_data_stop_tfidf, 20)]\n",
    "top_terms_stop_tfidf_test"
   ],
   "metadata": {
    "collapsed": false,
    "pycharm": {
     "name": "#%%\n"
    }
   }
  },
  {
   "cell_type": "markdown",
   "source": [
    "## Со стеммингом без стоп-слов"
   ],
   "metadata": {
    "collapsed": false,
    "pycharm": {
     "name": "#%% md\n"
    }
   }
  },
  {
   "cell_type": "code",
   "execution_count": 32,
   "outputs": [],
   "source": [
    "tf = TfidfTransformer(use_idf=False)\n",
    "tfidf = TfidfTransformer(use_idf=True)"
   ],
   "metadata": {
    "collapsed": false,
    "pycharm": {
     "name": "#%%\n"
    }
   }
  },
  {
   "cell_type": "code",
   "execution_count": 33,
   "outputs": [],
   "source": [
    "train_data_stem_tf = tf.fit_transform(train_data_without_stop_stem)\n",
    "test_data_stem_tf = tf.transform(test_data_without_stop_stem)\n",
    "\n",
    "train_data_stem_tfidf = tfidf.fit_transform(train_data_without_stop_stem)\n",
    "test_data_stem_tfidf = tfidf.transform(test_data_without_stop_stem)"
   ],
   "metadata": {
    "collapsed": false,
    "pycharm": {
     "name": "#%%\n"
    }
   }
  },
  {
   "cell_type": "code",
   "execution_count": 34,
   "outputs": [
    {
     "data": {
      "text/plain": "[{'the': 102.4167020332997},\n {'to': 66.80087036635662},\n {'of': 61.0606141251206},\n {'and': 54.86535021843155},\n {'is': 47.55257992890465},\n {'that': 45.61780513240577},\n {'for': 44.97402862941401},\n {'you': 43.505968937738125},\n {'it': 43.107902079866456},\n {'in': 42.66363758672977},\n {'have': 33.69279408264143},\n {'not': 26.86917716237715},\n {'or': 26.76815482715484},\n {'thi': 26.448880489356604},\n {'are': 26.070506658760067},\n {'with': 25.715909070863507},\n {'be': 25.66065041027378},\n {'do': 23.831879096909034},\n {'if': 23.719008715916885},\n {'on': 23.57406476332026}]"
     },
     "execution_count": 34,
     "metadata": {},
     "output_type": "execute_result"
    }
   ],
   "source": [
    "top_terms_stem_tf = [{term[0]: term[1]} for term in top_terms(vect_stem_without_stop, train_data_stem_tf, 20)]\n",
    "top_terms_stem_tf\n",
    "\n",
    "top_terms_stem_tf_test = [{term[0]: term[1]} for term in top_terms(vect_stem_without_stop, test_data_stem_tf, 20)]\n",
    "top_terms_stem_tf_test\n",
    "\n",
    "top_terms_stem_tfidf = [{term[0]: term[1]} for term in top_terms(vect_stem_without_stop, train_data_stem_tfidf, 20)]\n",
    "top_terms_stem_tfidf\n",
    "\n",
    "top_terms_stem_tfidf_test = [{term[0]: term[1]} for term in top_terms(vect_stem_without_stop, test_data_stem_tfidf, 20)]\n",
    "top_terms_stem_tfidf_test"
   ],
   "metadata": {
    "collapsed": false,
    "pycharm": {
     "name": "#%%\n"
    }
   }
  },
  {
   "cell_type": "markdown",
   "source": [
    "## Со стеммингом с использованием стоп-слов"
   ],
   "metadata": {
    "collapsed": false,
    "pycharm": {
     "name": "#%% md\n"
    }
   }
  },
  {
   "cell_type": "code",
   "execution_count": 35,
   "outputs": [],
   "source": [
    "tf = TfidfTransformer(use_idf=False)\n",
    "tfidf = TfidfTransformer(use_idf=True)"
   ],
   "metadata": {
    "collapsed": false,
    "pycharm": {
     "name": "#%%\n"
    }
   }
  },
  {
   "cell_type": "code",
   "execution_count": 36,
   "outputs": [],
   "source": [
    "train_data_stem_stop_tf = tf.fit_transform(train_data_stop_stem)\n",
    "test_data_stem_stop_tf = tf.transform(test_data_stop_stem)\n",
    "\n",
    "train_data_stem_stop_tfidf = tfidf.fit_transform(train_data_stop_stem)\n",
    "test_data_stem_stop_tfidf = tfidf.transform(test_data_stop_stem)"
   ],
   "metadata": {
    "collapsed": false,
    "pycharm": {
     "name": "#%%\n"
    }
   }
  },
  {
   "cell_type": "code",
   "execution_count": 37,
   "outputs": [
    {
     "data": {
      "text/plain": "[{'massag': 29.948081204577424},\n {'ll': 29.773079799267403},\n {'earn': 26.879153230636003},\n {'leadership': 26.70362435365944},\n {'sound': 23.870063892545577},\n {'pale': 22.13119244763357},\n {'grind': 21.984139363868216},\n {'tronic': 20.103879527019693},\n {'port': 20.08814309983904},\n {'typefont': 18.825287345123005},\n {'dylan': 17.934617752788245},\n {'endur': 17.86368099065268},\n {'gregori': 17.39807864633475},\n {'weather': 17.273875588234212},\n {'mildli': 17.20653379928399},\n {'00': 16.990129981097365},\n {'miner': 16.729737142292908},\n {'perciev': 15.708337776995725},\n {'whatsoev': 15.610096759328895},\n {'trash': 15.274593080166266}]"
     },
     "execution_count": 37,
     "metadata": {},
     "output_type": "execute_result"
    }
   ],
   "source": [
    "top_terms_stem_stop_tf = [{term[0]: term[1]} for term in top_terms(vect_stem, train_data_stop_tf, 20)]\n",
    "top_terms_stem_stop_tf\n",
    "\n",
    "top_terms_stem_stop_tf_test = [{term[0]: term[1]} for term in top_terms(vect_stem, test_data_stop_tf, 20)]\n",
    "top_terms_stem_stop_tf_test\n",
    "\n",
    "top_terms_stem_stop_tfidf = [{term[0]: term[1]} for term in top_terms(vect_stem, train_data_stop_tf, 20)]\n",
    "top_terms_stem_stop_tfidf\n",
    "\n",
    "top_terms_stem_stop_tfidf_test = [{term[0]: term[1]} for term in top_terms(vect_stem, test_data_stop_tf, 20)]\n",
    "top_terms_stem_stop_tfidf_test"
   ],
   "metadata": {
    "collapsed": false,
    "pycharm": {
     "name": "#%%\n"
    }
   }
  },
  {
   "cell_type": "markdown",
   "source": [
    "# Составление таблицы"
   ],
   "metadata": {
    "collapsed": false,
    "pycharm": {
     "name": "#%% md\n"
    }
   }
  },
  {
   "cell_type": "code",
   "execution_count": 38,
   "outputs": [],
   "source": [
    "import pandas as pd"
   ],
   "metadata": {
    "collapsed": false,
    "pycharm": {
     "name": "#%%\n"
    }
   }
  },
  {
   "cell_type": "code",
   "execution_count": 39,
   "outputs": [],
   "source": [
    "columns = pd.MultiIndex.from_product([['Count', 'TF', 'TF-IDF'], ['Без стоп-слов', 'С стоп-словами']])"
   ],
   "metadata": {
    "collapsed": false,
    "pycharm": {
     "name": "#%%\n"
    }
   }
  },
  {
   "cell_type": "markdown",
   "source": [
    "## Без стемминга"
   ],
   "metadata": {
    "collapsed": false,
    "pycharm": {
     "name": "#%% md\n"
    }
   }
  },
  {
   "cell_type": "code",
   "execution_count": 40,
   "outputs": [
    {
     "data": {
      "text/plain": "             Count                                             TF  \\\n     Без стоп-слов   С стоп-словами                 Без стоп-слов   \n0   {'the': 11301}      {'00': 640}    {'the': 410.6466942091253}   \n1     {'of': 6613}  {'people': 517}     {'to': 251.7142371449254}   \n2     {'to': 6208}     {'new': 504}     {'of': 224.7563651678267}   \n3    {'and': 5710}     {'edu': 502}   {'and': 213.50667797912118}   \n4     {'in': 3962}     {'don': 467}     {'is': 171.8087951834235}   \n5     {'is': 3857}    {'like': 461}    {'in': 154.16287320333123}   \n6   {'that': 3485}    {'good': 420}   {'for': 150.42899781013273}   \n7     {'it': 2943}    {'just': 417}     {'it': 144.3601581889401}   \n8    {'for': 2894}    {'know': 394}  {'that': 129.90078758447194}   \n9    {'you': 2402}      {'10': 358}   {'you': 107.74646955575315}   \n10  {'this': 1766}     {'use': 356}   {'with': 76.73952240379423}   \n11   {'are': 1753}     {'god': 338}   {'have': 74.76904182863568}   \n12  {'with': 1736}    {'time': 336}   {'this': 73.98236585775292}   \n13   {'not': 1711}   {'think': 328}    {'are': 72.37175564019299}   \n14  {'have': 1632}    {'does': 313}     {'or': 70.35049990487211}   \n15    {'be': 1555}      {'20': 285}    {'not': 65.67375220517485}   \n16    {'or': 1504}    {'used': 275}     {'be': 63.48328583893221}   \n17    {'as': 1433}      {'50': 261}    {'if': 57.567519020817166}   \n18    {'on': 1314}     {'com': 259}    {'on': 54.056582370621975}   \n19   {'but': 1143}   {'jesus': 258}     {'as': 50.53911703806337}   \n\n                                                             TF-IDF  \\\n                        С стоп-словами                Без стоп-слов   \n0           {'don': 42.19836218494229}   {'the': 158.7095535302558}   \n1          {'like': 41.94033888116838}   {'to': 100.59334482026873}   \n2           {'new': 38.49189557572986}    {'of': 96.82672169042559}   \n3          {'know': 38.43222500691624}   {'and': 86.39016862609914}   \n4         {'just': 36.441798363953794}     {'is': 78.0737463854439}   \n5        {'people': 36.20820897355665}    {'it': 71.51597224999692}   \n6          {'edu': 34.694153609728126}  {'that': 69.39495091529038}   \n7          {'sale': 33.10807332706017}    {'in': 67.86182033825528}   \n8          {'good': 32.20601101295828}  {'for': 62.588326880465274}   \n9        {'think': 28.946781478743482}  {'you': 60.005846885521684}   \n10        {'does': 26.955539997275125}  {'this': 41.37365799621488}   \n11          {'time': 26.0987325817474}   {'are': 40.00414095201544}   \n12       {'offer': 25.200411794386508}   {'have': 39.4882262676624}   \n13         {'used': 25.15020882674478}   {'with': 38.8104458820901}   \n14          {'00': 22.847118231150784}  {'not': 38.444939640920175}   \n15         {'make': 22.24617480778731}   {'be': 37.677253780707396}   \n16         {'use': 21.080078313079557}    {'or': 37.30203300467406}   \n17          {'god': 21.00989280692224}    {'as': 32.73502619945886}   \n18  {'interested': 20.947258397082738}    {'if': 32.43874285684031}   \n19     {'shipping': 20.37436327922064}   {'on': 31.670689631446457}   \n\n                                       \n                       С стоп-словами  \n0          {'don': 21.80243478947723}  \n1        {'like': 21.376965831609965}  \n2        {'know': 20.766576231972007}  \n3          {'new': 20.66361310613387}  \n4         {'edu': 20.304021113881046}  \n5      {'people': 19.788592619256864}  \n6        {'just': 19.258803504577592}  \n7        {'sale': 18.979968418043185}  \n8          {'00': 18.701502112747598}  \n9        {'good': 18.189793531301607}  \n10      {'think': 16.800161577150433}  \n11      {'offer': 16.522127130213185}  \n12        {'does': 16.12614063719485}  \n13        {'god': 15.548477911354187}  \n14        {'used': 14.77771917391587}  \n15       {'time': 14.743163825137326}  \n16    {'shipping': 14.37929479105371}  \n17      {'email': 13.466442391427682}  \n18         {'make': 13.3106674232951}  \n19  {'condition': 13.255658572127189}  ",
      "text/html": "<div>\n<style scoped>\n    .dataframe tbody tr th:only-of-type {\n        vertical-align: middle;\n    }\n\n    .dataframe tbody tr th {\n        vertical-align: top;\n    }\n\n    .dataframe thead tr th {\n        text-align: left;\n    }\n</style>\n<table border=\"1\" class=\"dataframe\">\n  <thead>\n    <tr>\n      <th></th>\n      <th colspan=\"2\" halign=\"left\">Count</th>\n      <th colspan=\"2\" halign=\"left\">TF</th>\n      <th colspan=\"2\" halign=\"left\">TF-IDF</th>\n    </tr>\n    <tr>\n      <th></th>\n      <th>Без стоп-слов</th>\n      <th>С стоп-словами</th>\n      <th>Без стоп-слов</th>\n      <th>С стоп-словами</th>\n      <th>Без стоп-слов</th>\n      <th>С стоп-словами</th>\n    </tr>\n  </thead>\n  <tbody>\n    <tr>\n      <th>0</th>\n      <td>{'the': 11301}</td>\n      <td>{'00': 640}</td>\n      <td>{'the': 410.6466942091253}</td>\n      <td>{'don': 42.19836218494229}</td>\n      <td>{'the': 158.7095535302558}</td>\n      <td>{'don': 21.80243478947723}</td>\n    </tr>\n    <tr>\n      <th>1</th>\n      <td>{'of': 6613}</td>\n      <td>{'people': 517}</td>\n      <td>{'to': 251.7142371449254}</td>\n      <td>{'like': 41.94033888116838}</td>\n      <td>{'to': 100.59334482026873}</td>\n      <td>{'like': 21.376965831609965}</td>\n    </tr>\n    <tr>\n      <th>2</th>\n      <td>{'to': 6208}</td>\n      <td>{'new': 504}</td>\n      <td>{'of': 224.7563651678267}</td>\n      <td>{'new': 38.49189557572986}</td>\n      <td>{'of': 96.82672169042559}</td>\n      <td>{'know': 20.766576231972007}</td>\n    </tr>\n    <tr>\n      <th>3</th>\n      <td>{'and': 5710}</td>\n      <td>{'edu': 502}</td>\n      <td>{'and': 213.50667797912118}</td>\n      <td>{'know': 38.43222500691624}</td>\n      <td>{'and': 86.39016862609914}</td>\n      <td>{'new': 20.66361310613387}</td>\n    </tr>\n    <tr>\n      <th>4</th>\n      <td>{'in': 3962}</td>\n      <td>{'don': 467}</td>\n      <td>{'is': 171.8087951834235}</td>\n      <td>{'just': 36.441798363953794}</td>\n      <td>{'is': 78.0737463854439}</td>\n      <td>{'edu': 20.304021113881046}</td>\n    </tr>\n    <tr>\n      <th>5</th>\n      <td>{'is': 3857}</td>\n      <td>{'like': 461}</td>\n      <td>{'in': 154.16287320333123}</td>\n      <td>{'people': 36.20820897355665}</td>\n      <td>{'it': 71.51597224999692}</td>\n      <td>{'people': 19.788592619256864}</td>\n    </tr>\n    <tr>\n      <th>6</th>\n      <td>{'that': 3485}</td>\n      <td>{'good': 420}</td>\n      <td>{'for': 150.42899781013273}</td>\n      <td>{'edu': 34.694153609728126}</td>\n      <td>{'that': 69.39495091529038}</td>\n      <td>{'just': 19.258803504577592}</td>\n    </tr>\n    <tr>\n      <th>7</th>\n      <td>{'it': 2943}</td>\n      <td>{'just': 417}</td>\n      <td>{'it': 144.3601581889401}</td>\n      <td>{'sale': 33.10807332706017}</td>\n      <td>{'in': 67.86182033825528}</td>\n      <td>{'sale': 18.979968418043185}</td>\n    </tr>\n    <tr>\n      <th>8</th>\n      <td>{'for': 2894}</td>\n      <td>{'know': 394}</td>\n      <td>{'that': 129.90078758447194}</td>\n      <td>{'good': 32.20601101295828}</td>\n      <td>{'for': 62.588326880465274}</td>\n      <td>{'00': 18.701502112747598}</td>\n    </tr>\n    <tr>\n      <th>9</th>\n      <td>{'you': 2402}</td>\n      <td>{'10': 358}</td>\n      <td>{'you': 107.74646955575315}</td>\n      <td>{'think': 28.946781478743482}</td>\n      <td>{'you': 60.005846885521684}</td>\n      <td>{'good': 18.189793531301607}</td>\n    </tr>\n    <tr>\n      <th>10</th>\n      <td>{'this': 1766}</td>\n      <td>{'use': 356}</td>\n      <td>{'with': 76.73952240379423}</td>\n      <td>{'does': 26.955539997275125}</td>\n      <td>{'this': 41.37365799621488}</td>\n      <td>{'think': 16.800161577150433}</td>\n    </tr>\n    <tr>\n      <th>11</th>\n      <td>{'are': 1753}</td>\n      <td>{'god': 338}</td>\n      <td>{'have': 74.76904182863568}</td>\n      <td>{'time': 26.0987325817474}</td>\n      <td>{'are': 40.00414095201544}</td>\n      <td>{'offer': 16.522127130213185}</td>\n    </tr>\n    <tr>\n      <th>12</th>\n      <td>{'with': 1736}</td>\n      <td>{'time': 336}</td>\n      <td>{'this': 73.98236585775292}</td>\n      <td>{'offer': 25.200411794386508}</td>\n      <td>{'have': 39.4882262676624}</td>\n      <td>{'does': 16.12614063719485}</td>\n    </tr>\n    <tr>\n      <th>13</th>\n      <td>{'not': 1711}</td>\n      <td>{'think': 328}</td>\n      <td>{'are': 72.37175564019299}</td>\n      <td>{'used': 25.15020882674478}</td>\n      <td>{'with': 38.8104458820901}</td>\n      <td>{'god': 15.548477911354187}</td>\n    </tr>\n    <tr>\n      <th>14</th>\n      <td>{'have': 1632}</td>\n      <td>{'does': 313}</td>\n      <td>{'or': 70.35049990487211}</td>\n      <td>{'00': 22.847118231150784}</td>\n      <td>{'not': 38.444939640920175}</td>\n      <td>{'used': 14.77771917391587}</td>\n    </tr>\n    <tr>\n      <th>15</th>\n      <td>{'be': 1555}</td>\n      <td>{'20': 285}</td>\n      <td>{'not': 65.67375220517485}</td>\n      <td>{'make': 22.24617480778731}</td>\n      <td>{'be': 37.677253780707396}</td>\n      <td>{'time': 14.743163825137326}</td>\n    </tr>\n    <tr>\n      <th>16</th>\n      <td>{'or': 1504}</td>\n      <td>{'used': 275}</td>\n      <td>{'be': 63.48328583893221}</td>\n      <td>{'use': 21.080078313079557}</td>\n      <td>{'or': 37.30203300467406}</td>\n      <td>{'shipping': 14.37929479105371}</td>\n    </tr>\n    <tr>\n      <th>17</th>\n      <td>{'as': 1433}</td>\n      <td>{'50': 261}</td>\n      <td>{'if': 57.567519020817166}</td>\n      <td>{'god': 21.00989280692224}</td>\n      <td>{'as': 32.73502619945886}</td>\n      <td>{'email': 13.466442391427682}</td>\n    </tr>\n    <tr>\n      <th>18</th>\n      <td>{'on': 1314}</td>\n      <td>{'com': 259}</td>\n      <td>{'on': 54.056582370621975}</td>\n      <td>{'interested': 20.947258397082738}</td>\n      <td>{'if': 32.43874285684031}</td>\n      <td>{'make': 13.3106674232951}</td>\n    </tr>\n    <tr>\n      <th>19</th>\n      <td>{'but': 1143}</td>\n      <td>{'jesus': 258}</td>\n      <td>{'as': 50.53911703806337}</td>\n      <td>{'shipping': 20.37436327922064}</td>\n      <td>{'on': 31.670689631446457}</td>\n      <td>{'condition': 13.255658572127189}</td>\n    </tr>\n  </tbody>\n</table>\n</div>"
     },
     "execution_count": 40,
     "metadata": {},
     "output_type": "execute_result"
    }
   ],
   "source": [
    "df1 = pd.DataFrame(columns=columns)\n",
    "\n",
    "df1['Count', 'Без стоп-слов'] = top_terms_without_stop\n",
    "df1['TF', 'Без стоп-слов'] = top_terms_tf\n",
    "df1['TF-IDF', 'Без стоп-слов'] = top_terms_tfidf\n",
    "\n",
    "df1['Count', 'С стоп-словами'] = top_terms_stop\n",
    "df1['TF', 'С стоп-словами'] = top_terms_stop_tf\n",
    "df1['TF-IDF', 'С стоп-словами'] = top_terms_stop_tfidf\n",
    "\n",
    "df1"
   ],
   "metadata": {
    "collapsed": false,
    "pycharm": {
     "name": "#%%\n"
    }
   }
  },
  {
   "cell_type": "code",
   "execution_count": 41,
   "outputs": [
    {
     "data": {
      "text/plain": "             Count                                              TF  \\\n     Без стоп-слов    С стоп-словами                 Без стоп-слов   \n0    {'the': 7706}       {'00': 560}   {'the': 264.43850063653423}   \n1     {'of': 4314}       {'10': 351}     {'to': 165.4520748999254}   \n2     {'to': 4227}      {'god': 328}    {'of': 142.71459444454686}   \n3    {'and': 3922}     {'like': 314}    {'and': 135.3763341296705}   \n4     {'in': 2670}      {'new': 306}    {'for': 106.7211060032294}   \n5     {'is': 2596}     {'know': 301}    {'is': 102.38992170757815}   \n6   {'that': 2302}      {'don': 292}     {'in': 96.31664067346627}   \n7    {'for': 2017}   {'people': 288}   {'that': 85.72866577881462}   \n8     {'it': 1819}     {'just': 249}     {'it': 84.31251661554674}   \n9    {'you': 1541}     {'good': 242}    {'you': 76.62890164443824}   \n10  {'have': 1230}       {'20': 239}  {'have': 59.782972354009544}   \n11  {'with': 1157}     {'time': 228}   {'with': 50.54776335071849}   \n12   {'are': 1149}      {'edu': 220}     {'or': 49.51766448693027}   \n13  {'this': 1149}       {'50': 214}  {'this': 46.257322990834744}   \n14   {'not': 1084}       {'12': 212}    {'are': 45.58212548464762}   \n15    {'or': 1009}     {'does': 205}    {'not': 44.61417757310946}   \n16    {'be': 1002}       {'92': 204}     {'if': 40.58806741479666}   \n17     {'as': 932}      {'use': 204}    {'on': 39.910061357543114}   \n18     {'on': 926}       {'25': 202}     {'be': 39.15623548893515}   \n19     {'if': 790}  {'medical': 201}     {'as': 32.12860833436083}   \n\n                                                          TF-IDF  \\\n                    С стоп-словами                 Без стоп-слов   \n0     {'like': 29.948081204577424}   {'the': 103.92578878716677}   \n1     {'know': 29.773079799267403}     {'to': 67.46243226585233}   \n2      {'don': 26.879153230636003}     {'of': 62.14728629487148}   \n3      {'just': 26.70362435365944}    {'and': 55.67573051098585}   \n4     {'sale': 23.870063892545577}    {'is': 47.115771882782795}   \n5       {'new': 22.13119244763357}   {'that': 46.15570171423424}   \n6     {'good': 21.984139363868216}    {'for': 45.38556743347154}   \n7    {'think': 20.103879527019693}    {'you': 43.75246255205398}   \n8    {'people': 20.08814309983904}     {'in': 43.31207482495192}   \n9     {'time': 18.825287345123005}     {'it': 41.98574454787257}   \n10    {'does': 17.934617752788245}  {'have': 32.082368823761044}   \n11      {'edu': 17.86368099065268}    {'or': 26.963146304013232}   \n12      {'god': 17.39807864633475}   {'not': 26.798398081584132}   \n13    {'used': 17.273875588234212}   {'this': 26.54414001492925}   \n14     {'mail': 17.20653379928399}   {'are': 26.139018385325716}   \n15      {'00': 16.990129981097365}     {'with': 26.089883896229}   \n16    {'make': 16.729737142292908}     {'be': 24.02821218376009}   \n17   {'offer': 15.708337776995725}      {'if': 23.8169899007375}   \n18      {'ve': 15.610096759328895}     {'on': 23.72047883885346}   \n19  {'thanks': 15.274593080166266}     {'as': 21.37691832162967}   \n\n                                    \n                    С стоп-словами  \n0      {'know': 16.24730869218536}  \n1     {'like': 15.489751099616834}  \n2     {'just': 14.386831590993486}  \n3      {'don': 14.029111887245111}  \n4      {'sale': 13.80560024422138}  \n5       {'00': 13.797739615372626}  \n6      {'god': 13.258610971213697}  \n7     {'good': 12.953128824156405}  \n8      {'new': 12.114588533328869}  \n9    {'think': 11.774347917159494}  \n10      {'mail': 11.7469651636439}  \n11  {'people': 11.217160674133005}  \n12     {'time': 10.76555628971949}  \n13    {'does': 10.752805532883665}  \n14  {'thanks': 10.731058363911187}  \n15      {'ve': 10.416912964357634}  \n16    {'used': 10.294090022947794}  \n17   {'offer': 10.221700719462152}  \n18     {'edu': 10.177793191710643}  \n19    {'make': 10.132834220143167}  ",
      "text/html": "<div>\n<style scoped>\n    .dataframe tbody tr th:only-of-type {\n        vertical-align: middle;\n    }\n\n    .dataframe tbody tr th {\n        vertical-align: top;\n    }\n\n    .dataframe thead tr th {\n        text-align: left;\n    }\n</style>\n<table border=\"1\" class=\"dataframe\">\n  <thead>\n    <tr>\n      <th></th>\n      <th colspan=\"2\" halign=\"left\">Count</th>\n      <th colspan=\"2\" halign=\"left\">TF</th>\n      <th colspan=\"2\" halign=\"left\">TF-IDF</th>\n    </tr>\n    <tr>\n      <th></th>\n      <th>Без стоп-слов</th>\n      <th>С стоп-словами</th>\n      <th>Без стоп-слов</th>\n      <th>С стоп-словами</th>\n      <th>Без стоп-слов</th>\n      <th>С стоп-словами</th>\n    </tr>\n  </thead>\n  <tbody>\n    <tr>\n      <th>0</th>\n      <td>{'the': 7706}</td>\n      <td>{'00': 560}</td>\n      <td>{'the': 264.43850063653423}</td>\n      <td>{'like': 29.948081204577424}</td>\n      <td>{'the': 103.92578878716677}</td>\n      <td>{'know': 16.24730869218536}</td>\n    </tr>\n    <tr>\n      <th>1</th>\n      <td>{'of': 4314}</td>\n      <td>{'10': 351}</td>\n      <td>{'to': 165.4520748999254}</td>\n      <td>{'know': 29.773079799267403}</td>\n      <td>{'to': 67.46243226585233}</td>\n      <td>{'like': 15.489751099616834}</td>\n    </tr>\n    <tr>\n      <th>2</th>\n      <td>{'to': 4227}</td>\n      <td>{'god': 328}</td>\n      <td>{'of': 142.71459444454686}</td>\n      <td>{'don': 26.879153230636003}</td>\n      <td>{'of': 62.14728629487148}</td>\n      <td>{'just': 14.386831590993486}</td>\n    </tr>\n    <tr>\n      <th>3</th>\n      <td>{'and': 3922}</td>\n      <td>{'like': 314}</td>\n      <td>{'and': 135.3763341296705}</td>\n      <td>{'just': 26.70362435365944}</td>\n      <td>{'and': 55.67573051098585}</td>\n      <td>{'don': 14.029111887245111}</td>\n    </tr>\n    <tr>\n      <th>4</th>\n      <td>{'in': 2670}</td>\n      <td>{'new': 306}</td>\n      <td>{'for': 106.7211060032294}</td>\n      <td>{'sale': 23.870063892545577}</td>\n      <td>{'is': 47.115771882782795}</td>\n      <td>{'sale': 13.80560024422138}</td>\n    </tr>\n    <tr>\n      <th>5</th>\n      <td>{'is': 2596}</td>\n      <td>{'know': 301}</td>\n      <td>{'is': 102.38992170757815}</td>\n      <td>{'new': 22.13119244763357}</td>\n      <td>{'that': 46.15570171423424}</td>\n      <td>{'00': 13.797739615372626}</td>\n    </tr>\n    <tr>\n      <th>6</th>\n      <td>{'that': 2302}</td>\n      <td>{'don': 292}</td>\n      <td>{'in': 96.31664067346627}</td>\n      <td>{'good': 21.984139363868216}</td>\n      <td>{'for': 45.38556743347154}</td>\n      <td>{'god': 13.258610971213697}</td>\n    </tr>\n    <tr>\n      <th>7</th>\n      <td>{'for': 2017}</td>\n      <td>{'people': 288}</td>\n      <td>{'that': 85.72866577881462}</td>\n      <td>{'think': 20.103879527019693}</td>\n      <td>{'you': 43.75246255205398}</td>\n      <td>{'good': 12.953128824156405}</td>\n    </tr>\n    <tr>\n      <th>8</th>\n      <td>{'it': 1819}</td>\n      <td>{'just': 249}</td>\n      <td>{'it': 84.31251661554674}</td>\n      <td>{'people': 20.08814309983904}</td>\n      <td>{'in': 43.31207482495192}</td>\n      <td>{'new': 12.114588533328869}</td>\n    </tr>\n    <tr>\n      <th>9</th>\n      <td>{'you': 1541}</td>\n      <td>{'good': 242}</td>\n      <td>{'you': 76.62890164443824}</td>\n      <td>{'time': 18.825287345123005}</td>\n      <td>{'it': 41.98574454787257}</td>\n      <td>{'think': 11.774347917159494}</td>\n    </tr>\n    <tr>\n      <th>10</th>\n      <td>{'have': 1230}</td>\n      <td>{'20': 239}</td>\n      <td>{'have': 59.782972354009544}</td>\n      <td>{'does': 17.934617752788245}</td>\n      <td>{'have': 32.082368823761044}</td>\n      <td>{'mail': 11.7469651636439}</td>\n    </tr>\n    <tr>\n      <th>11</th>\n      <td>{'with': 1157}</td>\n      <td>{'time': 228}</td>\n      <td>{'with': 50.54776335071849}</td>\n      <td>{'edu': 17.86368099065268}</td>\n      <td>{'or': 26.963146304013232}</td>\n      <td>{'people': 11.217160674133005}</td>\n    </tr>\n    <tr>\n      <th>12</th>\n      <td>{'are': 1149}</td>\n      <td>{'edu': 220}</td>\n      <td>{'or': 49.51766448693027}</td>\n      <td>{'god': 17.39807864633475}</td>\n      <td>{'not': 26.798398081584132}</td>\n      <td>{'time': 10.76555628971949}</td>\n    </tr>\n    <tr>\n      <th>13</th>\n      <td>{'this': 1149}</td>\n      <td>{'50': 214}</td>\n      <td>{'this': 46.257322990834744}</td>\n      <td>{'used': 17.273875588234212}</td>\n      <td>{'this': 26.54414001492925}</td>\n      <td>{'does': 10.752805532883665}</td>\n    </tr>\n    <tr>\n      <th>14</th>\n      <td>{'not': 1084}</td>\n      <td>{'12': 212}</td>\n      <td>{'are': 45.58212548464762}</td>\n      <td>{'mail': 17.20653379928399}</td>\n      <td>{'are': 26.139018385325716}</td>\n      <td>{'thanks': 10.731058363911187}</td>\n    </tr>\n    <tr>\n      <th>15</th>\n      <td>{'or': 1009}</td>\n      <td>{'does': 205}</td>\n      <td>{'not': 44.61417757310946}</td>\n      <td>{'00': 16.990129981097365}</td>\n      <td>{'with': 26.089883896229}</td>\n      <td>{'ve': 10.416912964357634}</td>\n    </tr>\n    <tr>\n      <th>16</th>\n      <td>{'be': 1002}</td>\n      <td>{'92': 204}</td>\n      <td>{'if': 40.58806741479666}</td>\n      <td>{'make': 16.729737142292908}</td>\n      <td>{'be': 24.02821218376009}</td>\n      <td>{'used': 10.294090022947794}</td>\n    </tr>\n    <tr>\n      <th>17</th>\n      <td>{'as': 932}</td>\n      <td>{'use': 204}</td>\n      <td>{'on': 39.910061357543114}</td>\n      <td>{'offer': 15.708337776995725}</td>\n      <td>{'if': 23.8169899007375}</td>\n      <td>{'offer': 10.221700719462152}</td>\n    </tr>\n    <tr>\n      <th>18</th>\n      <td>{'on': 926}</td>\n      <td>{'25': 202}</td>\n      <td>{'be': 39.15623548893515}</td>\n      <td>{'ve': 15.610096759328895}</td>\n      <td>{'on': 23.72047883885346}</td>\n      <td>{'edu': 10.177793191710643}</td>\n    </tr>\n    <tr>\n      <th>19</th>\n      <td>{'if': 790}</td>\n      <td>{'medical': 201}</td>\n      <td>{'as': 32.12860833436083}</td>\n      <td>{'thanks': 15.274593080166266}</td>\n      <td>{'as': 21.37691832162967}</td>\n      <td>{'make': 10.132834220143167}</td>\n    </tr>\n  </tbody>\n</table>\n</div>"
     },
     "execution_count": 41,
     "metadata": {},
     "output_type": "execute_result"
    }
   ],
   "source": [
    "df2 = pd.DataFrame(columns=columns)\n",
    "\n",
    "df2['Count', 'Без стоп-слов'] = top_terms_without_stop_test\n",
    "df2['TF', 'Без стоп-слов'] = top_terms_tf_test\n",
    "df2['TF-IDF', 'Без стоп-слов'] = top_terms_tfidf_test\n",
    "\n",
    "df2['Count', 'С стоп-словами'] = top_terms_stop_test\n",
    "df2['TF', 'С стоп-словами'] = top_terms_stop_tf_test\n",
    "df2['TF-IDF', 'С стоп-словами'] = top_terms_stop_tfidf_test\n",
    "\n",
    "df2"
   ],
   "metadata": {
    "collapsed": false,
    "pycharm": {
     "name": "#%%\n"
    }
   }
  },
  {
   "cell_type": "markdown",
   "source": [
    "## Со стеммингом"
   ],
   "metadata": {
    "collapsed": false,
    "pycharm": {
     "name": "#%% md\n"
    }
   }
  },
  {
   "cell_type": "code",
   "execution_count": 42,
   "outputs": [
    {
     "data": {
      "text/plain": "             Count                                            TF  \\\n     Без стоп-слов  С стоп-словами                 Без стоп-слов   \n0   {'the': 11298}   {'thi': 1770}   {'the': 401.75578691089754}   \n1     {'of': 6613}    {'wa': 1069}    {'to': 246.39046279013354}   \n2     {'to': 6208}    {'use': 808}    {'of': 219.99708531926314}   \n3    {'and': 5712}     {'ha': 732}   {'and': 208.88810525625937}   \n4     {'in': 3964}     {'00': 640}     {'is': 171.1104805078897}   \n5     {'is': 3922}    {'ani': 538}     {'in': 150.9005456172757}   \n6   {'that': 3488}    {'new': 529}    {'it': 147.38739013572695}   \n7     {'it': 3111}   {'like': 518}   {'for': 146.88012385811385}   \n8    {'for': 2894}  {'peopl': 518}  {'that': 127.31873045176705}   \n9    {'you': 2401}    {'edu': 502}   {'you': 105.54217923935947}   \n10   {'are': 1786}     {'hi': 498}   {'have': 79.37206678905693}   \n11   {'not': 1780}    {'doe': 440}   {'with': 75.16031613421946}   \n12  {'have': 1774}   {'know': 438}     {'thi': 72.6923434645989}   \n13   {'thi': 1770}   {'good': 430}    {'are': 72.46612914192293}   \n14    {'be': 1764}   {'onli': 420}     {'be': 69.19071366723983}   \n15  {'with': 1737}   {'just': 417}     {'or': 68.83200312335784}   \n16    {'or': 1504}   {'time': 414}    {'not': 66.22164742443427}   \n17    {'as': 1431}    {'say': 400}     {'if': 56.34259136328616}   \n18    {'do': 1386}  {'think': 393}     {'do': 55.09326254250311}   \n19    {'on': 1320}   {'make': 381}     {'on': 53.14025829598756}   \n\n                                                              TF-IDF  \\\n                        С стоп-словами                 Без стоп-слов   \n0          {'earn': 42.19836218494229}   {'the': 157.79831839320482}   \n1        {'massag': 41.94033888116838}    {'to': 100.54188184209593}   \n2          {'pale': 38.49189557572986}     {'of': 96.36850919046363}   \n3            {'ll': 38.43222500691624}    {'and': 86.04795469898639}   \n4   {'leadership': 36.441798363953794}      {'is': 79.0033745727237}   \n5          {'port': 36.20820897355665}     {'it': 73.31936518758786}   \n6        {'endur': 34.694153609728126}   {'that': 69.29949321110132}   \n7         {'sound': 33.10807332706017}     {'in': 67.48075467301989}   \n8         {'grind': 32.20601101295828}   {'for': 62.181913294819346}   \n9       {'tronic': 28.946781478743482}   {'you': 59.995166222979435}   \n10       {'dylan': 26.955539997275125}  {'have': 41.708464124313906}   \n11      {'typefont': 26.0987325817474}    {'thi': 41.41806858705026}   \n12     {'perciev': 25.200411794386508}   {'are': 40.730013978082994}   \n13      {'weather': 25.15020882674478}     {'be': 40.60952442256573}   \n14          {'00': 22.847118231150784}   {'not': 39.275869509026585}   \n15        {'miner': 22.24617480778731}   {'with': 38.75291671354243}   \n16        {'wear': 21.080078313079557}      {'or': 37.1367365602891}   \n17      {'gregori': 21.00989280692224}     {'do': 35.13133751221469}   \n18        {'join': 20.947258397082738}    {'as': 32.523517894221236}   \n19          {'stx': 20.37436327922064}     {'if': 32.50089178966867}   \n\n                                        \n                        С стоп-словами  \n0          {'earn': 42.19836218494229}  \n1        {'massag': 41.94033888116838}  \n2          {'pale': 38.49189557572986}  \n3            {'ll': 38.43222500691624}  \n4   {'leadership': 36.441798363953794}  \n5          {'port': 36.20820897355665}  \n6        {'endur': 34.694153609728126}  \n7         {'sound': 33.10807332706017}  \n8         {'grind': 32.20601101295828}  \n9       {'tronic': 28.946781478743482}  \n10       {'dylan': 26.955539997275125}  \n11      {'typefont': 26.0987325817474}  \n12     {'perciev': 25.200411794386508}  \n13      {'weather': 25.15020882674478}  \n14          {'00': 22.847118231150784}  \n15        {'miner': 22.24617480778731}  \n16        {'wear': 21.080078313079557}  \n17      {'gregori': 21.00989280692224}  \n18        {'join': 20.947258397082738}  \n19          {'stx': 20.37436327922064}  ",
      "text/html": "<div>\n<style scoped>\n    .dataframe tbody tr th:only-of-type {\n        vertical-align: middle;\n    }\n\n    .dataframe tbody tr th {\n        vertical-align: top;\n    }\n\n    .dataframe thead tr th {\n        text-align: left;\n    }\n</style>\n<table border=\"1\" class=\"dataframe\">\n  <thead>\n    <tr>\n      <th></th>\n      <th colspan=\"2\" halign=\"left\">Count</th>\n      <th colspan=\"2\" halign=\"left\">TF</th>\n      <th colspan=\"2\" halign=\"left\">TF-IDF</th>\n    </tr>\n    <tr>\n      <th></th>\n      <th>Без стоп-слов</th>\n      <th>С стоп-словами</th>\n      <th>Без стоп-слов</th>\n      <th>С стоп-словами</th>\n      <th>Без стоп-слов</th>\n      <th>С стоп-словами</th>\n    </tr>\n  </thead>\n  <tbody>\n    <tr>\n      <th>0</th>\n      <td>{'the': 11298}</td>\n      <td>{'thi': 1770}</td>\n      <td>{'the': 401.75578691089754}</td>\n      <td>{'earn': 42.19836218494229}</td>\n      <td>{'the': 157.79831839320482}</td>\n      <td>{'earn': 42.19836218494229}</td>\n    </tr>\n    <tr>\n      <th>1</th>\n      <td>{'of': 6613}</td>\n      <td>{'wa': 1069}</td>\n      <td>{'to': 246.39046279013354}</td>\n      <td>{'massag': 41.94033888116838}</td>\n      <td>{'to': 100.54188184209593}</td>\n      <td>{'massag': 41.94033888116838}</td>\n    </tr>\n    <tr>\n      <th>2</th>\n      <td>{'to': 6208}</td>\n      <td>{'use': 808}</td>\n      <td>{'of': 219.99708531926314}</td>\n      <td>{'pale': 38.49189557572986}</td>\n      <td>{'of': 96.36850919046363}</td>\n      <td>{'pale': 38.49189557572986}</td>\n    </tr>\n    <tr>\n      <th>3</th>\n      <td>{'and': 5712}</td>\n      <td>{'ha': 732}</td>\n      <td>{'and': 208.88810525625937}</td>\n      <td>{'ll': 38.43222500691624}</td>\n      <td>{'and': 86.04795469898639}</td>\n      <td>{'ll': 38.43222500691624}</td>\n    </tr>\n    <tr>\n      <th>4</th>\n      <td>{'in': 3964}</td>\n      <td>{'00': 640}</td>\n      <td>{'is': 171.1104805078897}</td>\n      <td>{'leadership': 36.441798363953794}</td>\n      <td>{'is': 79.0033745727237}</td>\n      <td>{'leadership': 36.441798363953794}</td>\n    </tr>\n    <tr>\n      <th>5</th>\n      <td>{'is': 3922}</td>\n      <td>{'ani': 538}</td>\n      <td>{'in': 150.9005456172757}</td>\n      <td>{'port': 36.20820897355665}</td>\n      <td>{'it': 73.31936518758786}</td>\n      <td>{'port': 36.20820897355665}</td>\n    </tr>\n    <tr>\n      <th>6</th>\n      <td>{'that': 3488}</td>\n      <td>{'new': 529}</td>\n      <td>{'it': 147.38739013572695}</td>\n      <td>{'endur': 34.694153609728126}</td>\n      <td>{'that': 69.29949321110132}</td>\n      <td>{'endur': 34.694153609728126}</td>\n    </tr>\n    <tr>\n      <th>7</th>\n      <td>{'it': 3111}</td>\n      <td>{'like': 518}</td>\n      <td>{'for': 146.88012385811385}</td>\n      <td>{'sound': 33.10807332706017}</td>\n      <td>{'in': 67.48075467301989}</td>\n      <td>{'sound': 33.10807332706017}</td>\n    </tr>\n    <tr>\n      <th>8</th>\n      <td>{'for': 2894}</td>\n      <td>{'peopl': 518}</td>\n      <td>{'that': 127.31873045176705}</td>\n      <td>{'grind': 32.20601101295828}</td>\n      <td>{'for': 62.181913294819346}</td>\n      <td>{'grind': 32.20601101295828}</td>\n    </tr>\n    <tr>\n      <th>9</th>\n      <td>{'you': 2401}</td>\n      <td>{'edu': 502}</td>\n      <td>{'you': 105.54217923935947}</td>\n      <td>{'tronic': 28.946781478743482}</td>\n      <td>{'you': 59.995166222979435}</td>\n      <td>{'tronic': 28.946781478743482}</td>\n    </tr>\n    <tr>\n      <th>10</th>\n      <td>{'are': 1786}</td>\n      <td>{'hi': 498}</td>\n      <td>{'have': 79.37206678905693}</td>\n      <td>{'dylan': 26.955539997275125}</td>\n      <td>{'have': 41.708464124313906}</td>\n      <td>{'dylan': 26.955539997275125}</td>\n    </tr>\n    <tr>\n      <th>11</th>\n      <td>{'not': 1780}</td>\n      <td>{'doe': 440}</td>\n      <td>{'with': 75.16031613421946}</td>\n      <td>{'typefont': 26.0987325817474}</td>\n      <td>{'thi': 41.41806858705026}</td>\n      <td>{'typefont': 26.0987325817474}</td>\n    </tr>\n    <tr>\n      <th>12</th>\n      <td>{'have': 1774}</td>\n      <td>{'know': 438}</td>\n      <td>{'thi': 72.6923434645989}</td>\n      <td>{'perciev': 25.200411794386508}</td>\n      <td>{'are': 40.730013978082994}</td>\n      <td>{'perciev': 25.200411794386508}</td>\n    </tr>\n    <tr>\n      <th>13</th>\n      <td>{'thi': 1770}</td>\n      <td>{'good': 430}</td>\n      <td>{'are': 72.46612914192293}</td>\n      <td>{'weather': 25.15020882674478}</td>\n      <td>{'be': 40.60952442256573}</td>\n      <td>{'weather': 25.15020882674478}</td>\n    </tr>\n    <tr>\n      <th>14</th>\n      <td>{'be': 1764}</td>\n      <td>{'onli': 420}</td>\n      <td>{'be': 69.19071366723983}</td>\n      <td>{'00': 22.847118231150784}</td>\n      <td>{'not': 39.275869509026585}</td>\n      <td>{'00': 22.847118231150784}</td>\n    </tr>\n    <tr>\n      <th>15</th>\n      <td>{'with': 1737}</td>\n      <td>{'just': 417}</td>\n      <td>{'or': 68.83200312335784}</td>\n      <td>{'miner': 22.24617480778731}</td>\n      <td>{'with': 38.75291671354243}</td>\n      <td>{'miner': 22.24617480778731}</td>\n    </tr>\n    <tr>\n      <th>16</th>\n      <td>{'or': 1504}</td>\n      <td>{'time': 414}</td>\n      <td>{'not': 66.22164742443427}</td>\n      <td>{'wear': 21.080078313079557}</td>\n      <td>{'or': 37.1367365602891}</td>\n      <td>{'wear': 21.080078313079557}</td>\n    </tr>\n    <tr>\n      <th>17</th>\n      <td>{'as': 1431}</td>\n      <td>{'say': 400}</td>\n      <td>{'if': 56.34259136328616}</td>\n      <td>{'gregori': 21.00989280692224}</td>\n      <td>{'do': 35.13133751221469}</td>\n      <td>{'gregori': 21.00989280692224}</td>\n    </tr>\n    <tr>\n      <th>18</th>\n      <td>{'do': 1386}</td>\n      <td>{'think': 393}</td>\n      <td>{'do': 55.09326254250311}</td>\n      <td>{'join': 20.947258397082738}</td>\n      <td>{'as': 32.523517894221236}</td>\n      <td>{'join': 20.947258397082738}</td>\n    </tr>\n    <tr>\n      <th>19</th>\n      <td>{'on': 1320}</td>\n      <td>{'make': 381}</td>\n      <td>{'on': 53.14025829598756}</td>\n      <td>{'stx': 20.37436327922064}</td>\n      <td>{'if': 32.50089178966867}</td>\n      <td>{'stx': 20.37436327922064}</td>\n    </tr>\n  </tbody>\n</table>\n</div>"
     },
     "execution_count": 42,
     "metadata": {},
     "output_type": "execute_result"
    }
   ],
   "source": [
    "df3 = pd.DataFrame(columns=columns)\n",
    "\n",
    "df3['Count', 'Без стоп-слов'] = top_terms_stem\n",
    "df3['TF', 'Без стоп-слов'] = top_terms_stem_tf\n",
    "df3['TF-IDF', 'Без стоп-слов'] = top_terms_stem_tfidf\n",
    "\n",
    "df3['Count', 'С стоп-словами'] = top_terms_stop_stem\n",
    "df3['TF', 'С стоп-словами'] = top_terms_stem_stop_tf\n",
    "df3['TF-IDF', 'С стоп-словами'] = top_terms_stem_stop_tfidf\n",
    "\n",
    "df3"
   ],
   "metadata": {
    "collapsed": false,
    "pycharm": {
     "name": "#%%\n"
    }
   }
  },
  {
   "cell_type": "code",
   "execution_count": 43,
   "outputs": [
    {
     "data": {
      "text/plain": "             Count                                            TF  \\\n     Без стоп-слов  С стоп-словами                 Без стоп-слов   \n0    {'the': 7706}   {'thi': 1199}      {'the': 257.92253141743}   \n1     {'of': 4314}     {'wa': 689}    {'to': 161.58217852697967}   \n2     {'to': 4227}     {'00': 560}      {'of': 138.969377940274}   \n3    {'and': 3923}    {'use': 521}    {'and': 131.9264434926551}   \n4     {'in': 2671}     {'ha': 498}   {'for': 104.14329159064731}   \n5     {'is': 2633}    {'god': 378}    {'is': 102.16292180234682}   \n6   {'that': 2306}     {'10': 351}     {'in': 93.95093720037718}   \n7    {'for': 2017}    {'ani': 347}     {'it': 86.50120545821625}   \n8     {'it': 1916}   {'like': 342}   {'that': 83.82705059369427}   \n9    {'you': 1540}   {'know': 330}    {'you': 74.86410865202238}   \n10  {'have': 1317}     {'hi': 325}   {'have': 63.54925811141936}   \n11   {'thi': 1199}    {'new': 320}  {'with': 49.181030980627284}   \n12   {'are': 1167}  {'peopl': 289}    {'or': 48.393434221928636}   \n13  {'with': 1157}    {'doe': 276}    {'thi': 45.45057235122236}   \n14    {'be': 1143}   {'time': 271}    {'are': 45.28657427458017}   \n15   {'not': 1116}   {'make': 265}    {'not': 44.53968532734706}   \n16    {'or': 1009}    {'say': 263}     {'be': 42.71042458581328}   \n17     {'on': 933}   {'just': 249}     {'if': 39.69464615053347}   \n18     {'as': 931}   {'good': 244}    {'on': 39.214057720326736}   \n19     {'do': 800}   {'onli': 241}    {'do': 36.976857767659254}   \n\n                                                             TF-IDF  \\\n                       С стоп-словами                 Без стоп-слов   \n0      {'massag': 29.948081204577424}    {'the': 102.4167020332997}   \n1          {'ll': 29.773079799267403}     {'to': 66.80087036635662}   \n2        {'earn': 26.879153230636003}      {'of': 61.0606141251206}   \n3   {'leadership': 26.70362435365944}    {'and': 54.86535021843155}   \n4       {'sound': 23.870063892545577}     {'is': 47.55257992890465}   \n5         {'pale': 22.13119244763357}   {'that': 45.61780513240577}   \n6       {'grind': 21.984139363868216}    {'for': 44.97402862941401}   \n7      {'tronic': 20.103879527019693}   {'you': 43.505968937738125}   \n8         {'port': 20.08814309983904}    {'it': 43.107902079866456}   \n9    {'typefont': 18.825287345123005}     {'in': 42.66363758672977}   \n10      {'dylan': 17.934617752788245}   {'have': 33.69279408264143}   \n11       {'endur': 17.86368099065268}    {'not': 26.86917716237715}   \n12     {'gregori': 17.39807864633475}     {'or': 26.76815482715484}   \n13    {'weather': 17.273875588234212}   {'thi': 26.448880489356604}   \n14      {'mildli': 17.20653379928399}   {'are': 26.070506658760067}   \n15         {'00': 16.990129981097365}  {'with': 25.715909070863507}   \n16      {'miner': 16.729737142292908}     {'be': 25.66065041027378}   \n17    {'perciev': 15.708337776995725}    {'do': 23.831879096909034}   \n18   {'whatsoev': 15.610096759328895}    {'if': 23.719008715916885}   \n19      {'trash': 15.274593080166266}     {'on': 23.57406476332026}   \n\n                                       \n                       С стоп-словами  \n0      {'massag': 29.948081204577424}  \n1          {'ll': 29.773079799267403}  \n2        {'earn': 26.879153230636003}  \n3   {'leadership': 26.70362435365944}  \n4       {'sound': 23.870063892545577}  \n5         {'pale': 22.13119244763357}  \n6       {'grind': 21.984139363868216}  \n7      {'tronic': 20.103879527019693}  \n8         {'port': 20.08814309983904}  \n9    {'typefont': 18.825287345123005}  \n10      {'dylan': 17.934617752788245}  \n11       {'endur': 17.86368099065268}  \n12     {'gregori': 17.39807864633475}  \n13    {'weather': 17.273875588234212}  \n14      {'mildli': 17.20653379928399}  \n15         {'00': 16.990129981097365}  \n16      {'miner': 16.729737142292908}  \n17    {'perciev': 15.708337776995725}  \n18   {'whatsoev': 15.610096759328895}  \n19      {'trash': 15.274593080166266}  ",
      "text/html": "<div>\n<style scoped>\n    .dataframe tbody tr th:only-of-type {\n        vertical-align: middle;\n    }\n\n    .dataframe tbody tr th {\n        vertical-align: top;\n    }\n\n    .dataframe thead tr th {\n        text-align: left;\n    }\n</style>\n<table border=\"1\" class=\"dataframe\">\n  <thead>\n    <tr>\n      <th></th>\n      <th colspan=\"2\" halign=\"left\">Count</th>\n      <th colspan=\"2\" halign=\"left\">TF</th>\n      <th colspan=\"2\" halign=\"left\">TF-IDF</th>\n    </tr>\n    <tr>\n      <th></th>\n      <th>Без стоп-слов</th>\n      <th>С стоп-словами</th>\n      <th>Без стоп-слов</th>\n      <th>С стоп-словами</th>\n      <th>Без стоп-слов</th>\n      <th>С стоп-словами</th>\n    </tr>\n  </thead>\n  <tbody>\n    <tr>\n      <th>0</th>\n      <td>{'the': 7706}</td>\n      <td>{'thi': 1199}</td>\n      <td>{'the': 257.92253141743}</td>\n      <td>{'massag': 29.948081204577424}</td>\n      <td>{'the': 102.4167020332997}</td>\n      <td>{'massag': 29.948081204577424}</td>\n    </tr>\n    <tr>\n      <th>1</th>\n      <td>{'of': 4314}</td>\n      <td>{'wa': 689}</td>\n      <td>{'to': 161.58217852697967}</td>\n      <td>{'ll': 29.773079799267403}</td>\n      <td>{'to': 66.80087036635662}</td>\n      <td>{'ll': 29.773079799267403}</td>\n    </tr>\n    <tr>\n      <th>2</th>\n      <td>{'to': 4227}</td>\n      <td>{'00': 560}</td>\n      <td>{'of': 138.969377940274}</td>\n      <td>{'earn': 26.879153230636003}</td>\n      <td>{'of': 61.0606141251206}</td>\n      <td>{'earn': 26.879153230636003}</td>\n    </tr>\n    <tr>\n      <th>3</th>\n      <td>{'and': 3923}</td>\n      <td>{'use': 521}</td>\n      <td>{'and': 131.9264434926551}</td>\n      <td>{'leadership': 26.70362435365944}</td>\n      <td>{'and': 54.86535021843155}</td>\n      <td>{'leadership': 26.70362435365944}</td>\n    </tr>\n    <tr>\n      <th>4</th>\n      <td>{'in': 2671}</td>\n      <td>{'ha': 498}</td>\n      <td>{'for': 104.14329159064731}</td>\n      <td>{'sound': 23.870063892545577}</td>\n      <td>{'is': 47.55257992890465}</td>\n      <td>{'sound': 23.870063892545577}</td>\n    </tr>\n    <tr>\n      <th>5</th>\n      <td>{'is': 2633}</td>\n      <td>{'god': 378}</td>\n      <td>{'is': 102.16292180234682}</td>\n      <td>{'pale': 22.13119244763357}</td>\n      <td>{'that': 45.61780513240577}</td>\n      <td>{'pale': 22.13119244763357}</td>\n    </tr>\n    <tr>\n      <th>6</th>\n      <td>{'that': 2306}</td>\n      <td>{'10': 351}</td>\n      <td>{'in': 93.95093720037718}</td>\n      <td>{'grind': 21.984139363868216}</td>\n      <td>{'for': 44.97402862941401}</td>\n      <td>{'grind': 21.984139363868216}</td>\n    </tr>\n    <tr>\n      <th>7</th>\n      <td>{'for': 2017}</td>\n      <td>{'ani': 347}</td>\n      <td>{'it': 86.50120545821625}</td>\n      <td>{'tronic': 20.103879527019693}</td>\n      <td>{'you': 43.505968937738125}</td>\n      <td>{'tronic': 20.103879527019693}</td>\n    </tr>\n    <tr>\n      <th>8</th>\n      <td>{'it': 1916}</td>\n      <td>{'like': 342}</td>\n      <td>{'that': 83.82705059369427}</td>\n      <td>{'port': 20.08814309983904}</td>\n      <td>{'it': 43.107902079866456}</td>\n      <td>{'port': 20.08814309983904}</td>\n    </tr>\n    <tr>\n      <th>9</th>\n      <td>{'you': 1540}</td>\n      <td>{'know': 330}</td>\n      <td>{'you': 74.86410865202238}</td>\n      <td>{'typefont': 18.825287345123005}</td>\n      <td>{'in': 42.66363758672977}</td>\n      <td>{'typefont': 18.825287345123005}</td>\n    </tr>\n    <tr>\n      <th>10</th>\n      <td>{'have': 1317}</td>\n      <td>{'hi': 325}</td>\n      <td>{'have': 63.54925811141936}</td>\n      <td>{'dylan': 17.934617752788245}</td>\n      <td>{'have': 33.69279408264143}</td>\n      <td>{'dylan': 17.934617752788245}</td>\n    </tr>\n    <tr>\n      <th>11</th>\n      <td>{'thi': 1199}</td>\n      <td>{'new': 320}</td>\n      <td>{'with': 49.181030980627284}</td>\n      <td>{'endur': 17.86368099065268}</td>\n      <td>{'not': 26.86917716237715}</td>\n      <td>{'endur': 17.86368099065268}</td>\n    </tr>\n    <tr>\n      <th>12</th>\n      <td>{'are': 1167}</td>\n      <td>{'peopl': 289}</td>\n      <td>{'or': 48.393434221928636}</td>\n      <td>{'gregori': 17.39807864633475}</td>\n      <td>{'or': 26.76815482715484}</td>\n      <td>{'gregori': 17.39807864633475}</td>\n    </tr>\n    <tr>\n      <th>13</th>\n      <td>{'with': 1157}</td>\n      <td>{'doe': 276}</td>\n      <td>{'thi': 45.45057235122236}</td>\n      <td>{'weather': 17.273875588234212}</td>\n      <td>{'thi': 26.448880489356604}</td>\n      <td>{'weather': 17.273875588234212}</td>\n    </tr>\n    <tr>\n      <th>14</th>\n      <td>{'be': 1143}</td>\n      <td>{'time': 271}</td>\n      <td>{'are': 45.28657427458017}</td>\n      <td>{'mildli': 17.20653379928399}</td>\n      <td>{'are': 26.070506658760067}</td>\n      <td>{'mildli': 17.20653379928399}</td>\n    </tr>\n    <tr>\n      <th>15</th>\n      <td>{'not': 1116}</td>\n      <td>{'make': 265}</td>\n      <td>{'not': 44.53968532734706}</td>\n      <td>{'00': 16.990129981097365}</td>\n      <td>{'with': 25.715909070863507}</td>\n      <td>{'00': 16.990129981097365}</td>\n    </tr>\n    <tr>\n      <th>16</th>\n      <td>{'or': 1009}</td>\n      <td>{'say': 263}</td>\n      <td>{'be': 42.71042458581328}</td>\n      <td>{'miner': 16.729737142292908}</td>\n      <td>{'be': 25.66065041027378}</td>\n      <td>{'miner': 16.729737142292908}</td>\n    </tr>\n    <tr>\n      <th>17</th>\n      <td>{'on': 933}</td>\n      <td>{'just': 249}</td>\n      <td>{'if': 39.69464615053347}</td>\n      <td>{'perciev': 15.708337776995725}</td>\n      <td>{'do': 23.831879096909034}</td>\n      <td>{'perciev': 15.708337776995725}</td>\n    </tr>\n    <tr>\n      <th>18</th>\n      <td>{'as': 931}</td>\n      <td>{'good': 244}</td>\n      <td>{'on': 39.214057720326736}</td>\n      <td>{'whatsoev': 15.610096759328895}</td>\n      <td>{'if': 23.719008715916885}</td>\n      <td>{'whatsoev': 15.610096759328895}</td>\n    </tr>\n    <tr>\n      <th>19</th>\n      <td>{'do': 800}</td>\n      <td>{'onli': 241}</td>\n      <td>{'do': 36.976857767659254}</td>\n      <td>{'trash': 15.274593080166266}</td>\n      <td>{'on': 23.57406476332026}</td>\n      <td>{'trash': 15.274593080166266}</td>\n    </tr>\n  </tbody>\n</table>\n</div>"
     },
     "execution_count": 43,
     "metadata": {},
     "output_type": "execute_result"
    }
   ],
   "source": [
    "df4 = pd.DataFrame(columns=columns)\n",
    "\n",
    "df4['Count', 'Без стоп-слов'] = top_terms_stem_test\n",
    "df4['TF', 'Без стоп-слов'] = top_terms_stem_tf_test\n",
    "df4['TF-IDF', 'Без стоп-слов'] = top_terms_stem_tfidf_test\n",
    "\n",
    "df4['Count', 'С стоп-словами'] = top_terms_stop_stem_test\n",
    "df4['TF', 'С стоп-словами'] = top_terms_stem_stop_tf_test\n",
    "df4['TF-IDF', 'С стоп-словами'] = top_terms_stem_stop_tfidf_test\n",
    "\n",
    "df4"
   ],
   "metadata": {
    "collapsed": false,
    "pycharm": {
     "name": "#%%\n"
    }
   }
  },
  {
   "cell_type": "markdown",
   "source": [
    "## Запись в файл"
   ],
   "metadata": {
    "collapsed": false,
    "pycharm": {
     "name": "#%% md\n"
    }
   }
  },
  {
   "cell_type": "code",
   "execution_count": 44,
   "outputs": [],
   "source": [
    "import openpyxl"
   ],
   "metadata": {
    "collapsed": false,
    "pycharm": {
     "name": "#%%\n"
    }
   }
  },
  {
   "cell_type": "code",
   "execution_count": 45,
   "outputs": [],
   "source": [
    "writer = pd.ExcelWriter('result.xlsx', engine='openpyxl')\n",
    "\n",
    "df1.to_excel(writer, sheet_name='Train, wo stem')\n",
    "df2.to_excel(writer, sheet_name='Test, wo stem')\n",
    "df3.to_excel(writer, sheet_name='Train, with stem')\n",
    "df4.to_excel(writer, sheet_name='Test, with stem')\n",
    "\n",
    "writer.save()"
   ],
   "metadata": {
    "collapsed": false,
    "pycharm": {
     "name": "#%%\n"
    }
   }
  },
  {
   "cell_type": "markdown",
   "source": [
    "# Конвейер"
   ],
   "metadata": {
    "collapsed": false,
    "pycharm": {
     "name": "#%% md\n"
    }
   }
  },
  {
   "cell_type": "code",
   "execution_count": 46,
   "outputs": [],
   "source": [
    "from sklearn.metrics import classification_report\n",
    "from sklearn.naive_bayes import MultinomialNB"
   ],
   "metadata": {
    "collapsed": false,
    "pycharm": {
     "name": "#%%\n"
    }
   }
  },
  {
   "cell_type": "code",
   "execution_count": 47,
   "outputs": [],
   "source": [
    "stop_words = [None, 'english']\n",
    "max_features_values = [100, 500, 1000, 2000, 3000, 4000, 5000]\n",
    "use_tf = [True, False]\n",
    "use_idf = [True, False]"
   ],
   "metadata": {
    "collapsed": false,
    "pycharm": {
     "name": "#%%\n"
    }
   }
  },
  {
   "cell_type": "code",
   "execution_count": 48,
   "outputs": [],
   "source": [
    "def prepare(data, max_feature, stop_word, use_tf, use_idf):\n",
    "    tf = None\n",
    "    cv = CountVectorizer(max_features=max_feature, stop_words=stop_word)\n",
    "    cv.fit(data)\n",
    "    if use_tf:\n",
    "        tf = TfidfTransformer(use_idf=use_idf)\n",
    "        tf.fit(cv.transform(data))\n",
    "    return cv, tf"
   ],
   "metadata": {
    "collapsed": false,
    "pycharm": {
     "name": "#%%\n"
    }
   }
  },
  {
   "cell_type": "code",
   "execution_count": 49,
   "outputs": [],
   "source": [
    "result = []\n",
    "\n",
    "for max_features_value in max_features_values:\n",
    "    for stop_word in stop_words:\n",
    "        for ut in use_tf:\n",
    "            for ui in use_idf:\n",
    "                options = {}\n",
    "                cv, tf = prepare(twenty_train_full.data, max_features_value, stop_word, ut, ui)\n",
    "                if tf:\n",
    "                    clf = MultinomialNB()\n",
    "                    clf.fit(tf.transform(cv.transform(twenty_train_full.data)), twenty_train_full.target)\n",
    "                    prep_test = tf.transform(cv.transform(twenty_test_full.data))\n",
    "                else:\n",
    "                    clf = MultinomialNB()\n",
    "                    clf.fit(cv.transform(twenty_train_full.data), twenty_train_full.target)\n",
    "                    prep_test = cv.transform(twenty_test_full.data)\n",
    "\n",
    "                options['features'] = max_features_value\n",
    "                options['stop_words'] = stop_word\n",
    "                options['use_tf'] = ut\n",
    "                options['use_idf'] = ui\n",
    "\n",
    "                result_data = classification_report(clf.predict(prep_test), twenty_test_full.target, output_dict=True)\n",
    "                result_df = pd.DataFrame(result_data)\n",
    "                result.append({\n",
    "                    'df': result_df,\n",
    "                    'options': options\n",
    "                })"
   ],
   "metadata": {
    "collapsed": false,
    "pycharm": {
     "name": "#%%\n"
    }
   }
  },
  {
   "cell_type": "code",
   "execution_count": 50,
   "outputs": [],
   "source": [
    "writer = pd.ExcelWriter('result_compare.xlsx', engine='openpyxl')\n",
    "\n",
    "df = pd.DataFrame(columns=['Номер страницы', 'features', 'stop_words', 'use_tf', 'use_idf'])\n",
    "for it, item in enumerate(result):\n",
    "    for key, value in item['options'].items():\n",
    "        df.at[it, key] = value\n",
    "    df.at[it, 'Номер страницы'] = it\n",
    "\n",
    "df.to_excel(writer, sheet_name='Оглавление')\n",
    "\n",
    "for it, item in enumerate(result):\n",
    "    df_new = pd.DataFrame(item['df'])\n",
    "    df_new.to_excel(writer, sheet_name=f'Страница {it}')\n",
    "\n",
    "writer.save()"
   ],
   "metadata": {
    "collapsed": false,
    "pycharm": {
     "name": "#%%\n"
    }
   }
  },
  {
   "cell_type": "code",
   "execution_count": 51,
   "outputs": [],
   "source": [
    "from sklearn.pipeline import Pipeline\n",
    "\n",
    "parameters = {\n",
    "    'vect__max_features': max_features_values,\n",
    "    'vect__stop_words': stop_words,\n",
    "    'tfidf__use_idf': use_idf\n",
    "}\n",
    "\n",
    "text_clf = Pipeline([('vect', CountVectorizer()),\n",
    "                     ('tfidf', TfidfTransformer()),\n",
    "                     ('clf', MultinomialNB())])"
   ],
   "metadata": {
    "collapsed": false,
    "pycharm": {
     "name": "#%%\n"
    }
   }
  },
  {
   "cell_type": "code",
   "execution_count": 52,
   "outputs": [
    {
     "data": {
      "text/plain": "GridSearchCV(estimator=Pipeline(steps=[('vect', CountVectorizer()),\n                                       ('tfidf', TfidfTransformer()),\n                                       ('clf', MultinomialNB())]),\n             param_grid={'tfidf__use_idf': [True, False],\n                         'vect__max_features': [100, 500, 1000, 2000, 3000,\n                                                4000, 5000],\n                         'vect__stop_words': [None, 'english']})",
      "text/html": "<style>#sk-container-id-1 {color: black;background-color: white;}#sk-container-id-1 pre{padding: 0;}#sk-container-id-1 div.sk-toggleable {background-color: white;}#sk-container-id-1 label.sk-toggleable__label {cursor: pointer;display: block;width: 100%;margin-bottom: 0;padding: 0.3em;box-sizing: border-box;text-align: center;}#sk-container-id-1 label.sk-toggleable__label-arrow:before {content: \"▸\";float: left;margin-right: 0.25em;color: #696969;}#sk-container-id-1 label.sk-toggleable__label-arrow:hover:before {color: black;}#sk-container-id-1 div.sk-estimator:hover label.sk-toggleable__label-arrow:before {color: black;}#sk-container-id-1 div.sk-toggleable__content {max-height: 0;max-width: 0;overflow: hidden;text-align: left;background-color: #f0f8ff;}#sk-container-id-1 div.sk-toggleable__content pre {margin: 0.2em;color: black;border-radius: 0.25em;background-color: #f0f8ff;}#sk-container-id-1 input.sk-toggleable__control:checked~div.sk-toggleable__content {max-height: 200px;max-width: 100%;overflow: auto;}#sk-container-id-1 input.sk-toggleable__control:checked~label.sk-toggleable__label-arrow:before {content: \"▾\";}#sk-container-id-1 div.sk-estimator input.sk-toggleable__control:checked~label.sk-toggleable__label {background-color: #d4ebff;}#sk-container-id-1 div.sk-label input.sk-toggleable__control:checked~label.sk-toggleable__label {background-color: #d4ebff;}#sk-container-id-1 input.sk-hidden--visually {border: 0;clip: rect(1px 1px 1px 1px);clip: rect(1px, 1px, 1px, 1px);height: 1px;margin: -1px;overflow: hidden;padding: 0;position: absolute;width: 1px;}#sk-container-id-1 div.sk-estimator {font-family: monospace;background-color: #f0f8ff;border: 1px dotted black;border-radius: 0.25em;box-sizing: border-box;margin-bottom: 0.5em;}#sk-container-id-1 div.sk-estimator:hover {background-color: #d4ebff;}#sk-container-id-1 div.sk-parallel-item::after {content: \"\";width: 100%;border-bottom: 1px solid gray;flex-grow: 1;}#sk-container-id-1 div.sk-label:hover label.sk-toggleable__label {background-color: #d4ebff;}#sk-container-id-1 div.sk-serial::before {content: \"\";position: absolute;border-left: 1px solid gray;box-sizing: border-box;top: 0;bottom: 0;left: 50%;z-index: 0;}#sk-container-id-1 div.sk-serial {display: flex;flex-direction: column;align-items: center;background-color: white;padding-right: 0.2em;padding-left: 0.2em;position: relative;}#sk-container-id-1 div.sk-item {position: relative;z-index: 1;}#sk-container-id-1 div.sk-parallel {display: flex;align-items: stretch;justify-content: center;background-color: white;position: relative;}#sk-container-id-1 div.sk-item::before, #sk-container-id-1 div.sk-parallel-item::before {content: \"\";position: absolute;border-left: 1px solid gray;box-sizing: border-box;top: 0;bottom: 0;left: 50%;z-index: -1;}#sk-container-id-1 div.sk-parallel-item {display: flex;flex-direction: column;z-index: 1;position: relative;background-color: white;}#sk-container-id-1 div.sk-parallel-item:first-child::after {align-self: flex-end;width: 50%;}#sk-container-id-1 div.sk-parallel-item:last-child::after {align-self: flex-start;width: 50%;}#sk-container-id-1 div.sk-parallel-item:only-child::after {width: 0;}#sk-container-id-1 div.sk-dashed-wrapped {border: 1px dashed gray;margin: 0 0.4em 0.5em 0.4em;box-sizing: border-box;padding-bottom: 0.4em;background-color: white;}#sk-container-id-1 div.sk-label label {font-family: monospace;font-weight: bold;display: inline-block;line-height: 1.2em;}#sk-container-id-1 div.sk-label-container {text-align: center;}#sk-container-id-1 div.sk-container {/* jupyter's `normalize.less` sets `[hidden] { display: none; }` but bootstrap.min.css set `[hidden] { display: none !important; }` so we also need the `!important` here to be able to override the default hidden behavior on the sphinx rendered scikit-learn.org. See: https://github.com/scikit-learn/scikit-learn/issues/21755 */display: inline-block !important;position: relative;}#sk-container-id-1 div.sk-text-repr-fallback {display: none;}</style><div id=\"sk-container-id-1\" class=\"sk-top-container\"><div class=\"sk-text-repr-fallback\"><pre>GridSearchCV(estimator=Pipeline(steps=[(&#x27;vect&#x27;, CountVectorizer()),\n                                       (&#x27;tfidf&#x27;, TfidfTransformer()),\n                                       (&#x27;clf&#x27;, MultinomialNB())]),\n             param_grid={&#x27;tfidf__use_idf&#x27;: [True, False],\n                         &#x27;vect__max_features&#x27;: [100, 500, 1000, 2000, 3000,\n                                                4000, 5000],\n                         &#x27;vect__stop_words&#x27;: [None, &#x27;english&#x27;]})</pre><b>In a Jupyter environment, please rerun this cell to show the HTML representation or trust the notebook. <br />On GitHub, the HTML representation is unable to render, please try loading this page with nbviewer.org.</b></div><div class=\"sk-container\" hidden><div class=\"sk-item sk-dashed-wrapped\"><div class=\"sk-label-container\"><div class=\"sk-label sk-toggleable\"><input class=\"sk-toggleable__control sk-hidden--visually\" id=\"sk-estimator-id-1\" type=\"checkbox\" ><label for=\"sk-estimator-id-1\" class=\"sk-toggleable__label sk-toggleable__label-arrow\">GridSearchCV</label><div class=\"sk-toggleable__content\"><pre>GridSearchCV(estimator=Pipeline(steps=[(&#x27;vect&#x27;, CountVectorizer()),\n                                       (&#x27;tfidf&#x27;, TfidfTransformer()),\n                                       (&#x27;clf&#x27;, MultinomialNB())]),\n             param_grid={&#x27;tfidf__use_idf&#x27;: [True, False],\n                         &#x27;vect__max_features&#x27;: [100, 500, 1000, 2000, 3000,\n                                                4000, 5000],\n                         &#x27;vect__stop_words&#x27;: [None, &#x27;english&#x27;]})</pre></div></div></div><div class=\"sk-parallel\"><div class=\"sk-parallel-item\"><div class=\"sk-item\"><div class=\"sk-label-container\"><div class=\"sk-label sk-toggleable\"><input class=\"sk-toggleable__control sk-hidden--visually\" id=\"sk-estimator-id-2\" type=\"checkbox\" ><label for=\"sk-estimator-id-2\" class=\"sk-toggleable__label sk-toggleable__label-arrow\">estimator: Pipeline</label><div class=\"sk-toggleable__content\"><pre>Pipeline(steps=[(&#x27;vect&#x27;, CountVectorizer()), (&#x27;tfidf&#x27;, TfidfTransformer()),\n                (&#x27;clf&#x27;, MultinomialNB())])</pre></div></div></div><div class=\"sk-serial\"><div class=\"sk-item\"><div class=\"sk-serial\"><div class=\"sk-item\"><div class=\"sk-estimator sk-toggleable\"><input class=\"sk-toggleable__control sk-hidden--visually\" id=\"sk-estimator-id-3\" type=\"checkbox\" ><label for=\"sk-estimator-id-3\" class=\"sk-toggleable__label sk-toggleable__label-arrow\">CountVectorizer</label><div class=\"sk-toggleable__content\"><pre>CountVectorizer()</pre></div></div></div><div class=\"sk-item\"><div class=\"sk-estimator sk-toggleable\"><input class=\"sk-toggleable__control sk-hidden--visually\" id=\"sk-estimator-id-4\" type=\"checkbox\" ><label for=\"sk-estimator-id-4\" class=\"sk-toggleable__label sk-toggleable__label-arrow\">TfidfTransformer</label><div class=\"sk-toggleable__content\"><pre>TfidfTransformer()</pre></div></div></div><div class=\"sk-item\"><div class=\"sk-estimator sk-toggleable\"><input class=\"sk-toggleable__control sk-hidden--visually\" id=\"sk-estimator-id-5\" type=\"checkbox\" ><label for=\"sk-estimator-id-5\" class=\"sk-toggleable__label sk-toggleable__label-arrow\">MultinomialNB</label><div class=\"sk-toggleable__content\"><pre>MultinomialNB()</pre></div></div></div></div></div></div></div></div></div></div></div></div>"
     },
     "execution_count": 52,
     "metadata": {},
     "output_type": "execute_result"
    }
   ],
   "source": [
    "from sklearn.model_selection import GridSearchCV\n",
    "\n",
    "gscv = GridSearchCV(text_clf, param_grid=parameters)\n",
    "gscv.fit(twenty_train_full.data, twenty_train_full.target)"
   ],
   "metadata": {
    "collapsed": false,
    "pycharm": {
     "name": "#%%\n"
    }
   }
  },
  {
   "cell_type": "code",
   "execution_count": 53,
   "outputs": [
    {
     "name": "stdout",
     "output_type": "stream",
     "text": [
      "              precision    recall  f1-score   support\n",
      "\n",
      "           0       0.94      0.92      0.93       396\n",
      "           1       0.91      0.82      0.86       441\n",
      "           2       0.72      0.90      0.80       200\n",
      "\n",
      "    accuracy                           0.87      1037\n",
      "   macro avg       0.85      0.88      0.86      1037\n",
      "weighted avg       0.88      0.87      0.87      1037\n",
      "\n"
     ]
    }
   ],
   "source": [
    "print(classification_report(gscv.predict(twenty_test_full.data), twenty_test_full.target))"
   ],
   "metadata": {
    "collapsed": false,
    "pycharm": {
     "name": "#%%\n"
    }
   }
  },
  {
   "cell_type": "code",
   "execution_count": 54,
   "outputs": [
    {
     "data": {
      "text/plain": "{'tfidf__use_idf': True,\n 'vect__max_features': 2000,\n 'vect__stop_words': 'english'}"
     },
     "execution_count": 54,
     "metadata": {},
     "output_type": "execute_result"
    }
   ],
   "source": [
    "gscv.best_params_"
   ],
   "metadata": {
    "collapsed": false,
    "pycharm": {
     "name": "#%%\n"
    }
   }
  },
  {
   "cell_type": "code",
   "execution_count": 54,
   "outputs": [],
   "source": [],
   "metadata": {
    "collapsed": false,
    "pycharm": {
     "name": "#%%\n"
    }
   }
  }
 ],
 "metadata": {
  "kernelspec": {
   "display_name": "Python 3 (ipykernel)",
   "language": "python",
   "name": "python3"
  },
  "language_info": {
   "codemirror_mode": {
    "name": "ipython",
    "version": 3
   },
   "file_extension": ".py",
   "mimetype": "text/x-python",
   "name": "python",
   "nbconvert_exporter": "python",
   "pygments_lexer": "ipython3",
   "version": "3.10.7"
  }
 },
 "nbformat": 4,
 "nbformat_minor": 5
}